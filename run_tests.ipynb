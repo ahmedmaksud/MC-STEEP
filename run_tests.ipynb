{
 "cells": [
  {
   "cell_type": "markdown",
   "metadata": {},
   "source": [
    "# Execute All Test Files\n",
    "This notebook dynamically discovers and executes all `test_*.py` files in the repository."
   ]
  },
  {
   "cell_type": "code",
   "execution_count": null,
   "metadata": {},
   "outputs": [],
   "source": [
    "!pip install cvxpy\n"
    "import os\n",
    "import subprocess\n",
    "from pathlib import Path\n",
    "\n",
    "# Define the root directory to search for test files\n",
    "root_dir = Path('.')\n",
    "\n",
    "# Find all test_*.py files in the repository\n",
    "test_files = [\n",
    "    str(file) for file in root_dir.rglob('test_*.py')\n",
    "]\n",
    "\n",
    "if not test_files:\n",
    "    print(\"No test files found in the repository.\")\n",
    "else:\n",
    "    print(\"Found the following test files:\")\n",
    "    for test_file in test_files:\n",
    "        print(f\"- {test_file}\")\n",
    "\n",
    "    # Execute each test file sequentially\n",
    "    for test_file in test_files:\n",
    "        print(f\"\\nRunning {test_file}...\")\n",
    "        result = subprocess.run(['python', test_file], capture_output=True, text=True)\n",
    "        print(f\"Output of {test_file}:\")\n",
    "        print(result.stdout)\n",
    "        if result.stderr:\n",
    "            print(f\"Errors in {test_file}:\")\n",
    "            print(result.stderr)\n"
   ]
  }
 ],
 "metadata": {
  "kernelspec": {
   "display_name": "Python 3",
   "language": "python",
   "name": "python3"
  },
  "language_info": {
   "codemirror_mode": {
    "name": "ipython",
    "version": 3
   },
   "file_extension": ".py",
   "mimetype": "text/x-python",
   "name": "python",
   "nbconvert_exporter": "python",
   "pygments_lexer": "ipython3",
   "version": "3.9.7"
  }
 },
 "nbformat": 4,
 "nbformat_minor": 5
}
